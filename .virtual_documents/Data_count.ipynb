import pandas as pd
import glob
import os

# Path to your folder
folder_path = r"C:\Users\Dell\Precipitation_Prediction_Project_Janbubu\DATA_precipitation"

# Read all Excel files ending with _pivoted_values.xlsx
all_files = glob.glob(os.path.join(folder_path, "*_pivoted_values.xlsx"))

data_list = []

for file in all_files:
    # Read all sheets in the Excel file
    xls = pd.ExcelFile(file)
    for sheet_name in xls.sheet_names:
        df = pd.read_excel(xls, sheet_name=sheet_name)
        
        # Extract region name from filename (before first "_")
        country_name = os.path.basename(file).split("_")[0]
        df["Region"] = country_name  # Add region column
        
        # Optional: add sheet name as City/Location column
        df["City"] = sheet_name
        
        data_list.append(df)

# Combine all Excel data into one DataFrame
combined_df = pd.concat(data_list, ignore_index=True)

print("✅ Combined DataFrame shape:", combined_df.shape)
print(combined_df.head())



# Count the number of locations per region that have precipitation
# Assuming your precipitation column is named "Precipitation"
region_counts = combined_df[combined_df['Precipitation'].notna()].groupby(
    ["Region", "Latitude", "Longitude"]
).size().reset_index(name="Count")

# Now aggregate counts per region (sum of locations)
region_total = region_counts.groupby(["Region", "Latitude", "Longitude"]).sum(numeric_only=True).reset_index()



import plotly.express as px

# Filter for Asia
asia_df = region_total[
    (region_total['Latitude'] >= 5) & (region_total['Latitude'] <= 55) & 
    (region_total['Longitude'] >= 60) & (region_total['Longitude'] <= 150)
]

fig = px.scatter_geo(
    asia_df,
    lat="Latitude",
    lon="Longitude",
    size="Count",       # Bubble size based on number of locations
    color="Region",
    hover_name="Region",
    projection="natural earth",
    title="Number of Locations with Precipitation per Region in Asia",
    color_discrete_sequence=px.colors.qualitative.Set2
)

fig.update_geos(
    visible=False, 
    resolution=50,
    showcountries=True, 
    lataxis_range=[5, 55],
    lonaxis_range=[60, 150]
)

fig.update_layout(margin={"r":0,"t":50,"l":0,"b":0})
fig.show()




