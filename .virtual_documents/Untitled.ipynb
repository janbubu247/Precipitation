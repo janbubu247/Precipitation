import pandas as pd
import glob
import os

# Path to your folder
folder_path = r"C:\Users\Dell\Precipitation_Prediction_Project_Janbubu\DATA_precipitation"

# Read all Excel files ending with _pivoted_values.xlsx
all_files = glob.glob(os.path.join(folder_path, "*_pivoted_values.xlsx"))

data_list = []

for file in all_files:
    # ✅ Use read_excel instead of read_csv
    df = pd.read_excel(file)
    
    # Extract region name from filename (before first "_")
    country_name = os.path.basename(file).split("_")[0]
    df["Region"] = country_name  # Add region column
    
    data_list.append(df)

# ✅ Combine all Excel data into one DataFrame
combined_df = pd.concat(data_list, ignore_index=True)

print("✅ Combined DataFrame shape:", combined_df.shape)
print(combined_df.head())



region_total = combined_df.groupby("Region").sum(numeric_only=True).reset_index()
region_total





import plotly.express as px

# Aggregate data by region (assuming Latitude & Longitude exist per region)
region_total = combined_df.groupby(["Region", "Latitude", "Longitude"]).sum(numeric_only=True).reset_index()

# Filter for Asia region by bounding box (rough lat/lon for Asia)
asia_df = region_total[
    (region_total['Latitude'] >= 5) & (region_total['Latitude'] <= 55) & 
    (region_total['Longitude'] >= 60) & (region_total['Longitude'] <= 150)
]

# Create bubble map
fig = px.scatter_geo(
    asia_df,
    lat="Latitude",
    lon="Longitude",
    size="Precipitation",  # Or any numeric column you want to show
    color="Region",        # Different color per region
    hover_name="Region",
    projection="natural earth",
    title="Asia Region-wise Precipitation Bubble Map",
    color_discrete_sequence=px.colors.qualitative.Set2  # Nice palette
)

# Zoom map to Asia
fig.update_geos(
    visible=False, 
    resolution=50,
    showcountries=True, 
    lataxis_range=[5, 55],
    lonaxis_range=[60, 150]
)

fig.update_layout(margin={"r":0,"t":50,"l":0,"b":0})
fig.show()




