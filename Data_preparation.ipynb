{
 "cells": [
  {
   "cell_type": "code",
   "execution_count": 14,
   "id": "88b7d222-ad5e-4ba1-9496-e5dd2086314c",
   "metadata": {},
   "outputs": [],
   "source": [
    "import pandas as pd\n",
    "import numpy as np\n",
    "import seaborn as sns\n",
    "import matplotlib.pyplot as plt\n",
    "import os\n",
    "os.environ[\"OMP_NUM_THREADS\"] = \"1\""
   ]
  },
  {
   "cell_type": "code",
   "execution_count": 80,
   "id": "0a76cc37-b43b-4716-901f-6ac6fd87e265",
   "metadata": {
    "scrolled": true
   },
   "outputs": [
    {
     "name": "stderr",
     "output_type": "stream",
     "text": [
      "D:\\downloads\\anaconda\\Lib\\site-packages\\sklearn\\cluster\\_kmeans.py:1429: UserWarning: KMeans is known to have a memory leak on Windows with MKL, when there are less chunks than available threads. You can avoid it by setting the environment variable OMP_NUM_THREADS=1.\n",
      "  warnings.warn(\n"
     ]
    },
    {
     "name": "stdout",
     "output_type": "stream",
     "text": [
      "Processed: BATUAN_pivoted_values\n"
     ]
    },
    {
     "name": "stderr",
     "output_type": "stream",
     "text": [
      "D:\\downloads\\anaconda\\Lib\\site-packages\\sklearn\\cluster\\_kmeans.py:1429: UserWarning: KMeans is known to have a memory leak on Windows with MKL, when there are less chunks than available threads. You can avoid it by setting the environment variable OMP_NUM_THREADS=1.\n",
      "  warnings.warn(\n"
     ]
    },
    {
     "name": "stdout",
     "output_type": "stream",
     "text": [
      "Processed: CHANGCHUN_pivoted_values\n"
     ]
    },
    {
     "name": "stderr",
     "output_type": "stream",
     "text": [
      "D:\\downloads\\anaconda\\Lib\\site-packages\\sklearn\\cluster\\_kmeans.py:1429: UserWarning: KMeans is known to have a memory leak on Windows with MKL, when there are less chunks than available threads. You can avoid it by setting the environment variable OMP_NUM_THREADS=1.\n",
      "  warnings.warn(\n"
     ]
    },
    {
     "name": "stdout",
     "output_type": "stream",
     "text": [
      "Processed: CHANGSHA_pivoted_values\n"
     ]
    },
    {
     "name": "stderr",
     "output_type": "stream",
     "text": [
      "D:\\downloads\\anaconda\\Lib\\site-packages\\sklearn\\cluster\\_kmeans.py:1429: UserWarning: KMeans is known to have a memory leak on Windows with MKL, when there are less chunks than available threads. You can avoid it by setting the environment variable OMP_NUM_THREADS=1.\n",
      "  warnings.warn(\n"
     ]
    },
    {
     "name": "stdout",
     "output_type": "stream",
     "text": [
      "Processed: CHENGDU_pivoted_values\n"
     ]
    },
    {
     "name": "stderr",
     "output_type": "stream",
     "text": [
      "D:\\downloads\\anaconda\\Lib\\site-packages\\sklearn\\cluster\\_kmeans.py:1429: UserWarning: KMeans is known to have a memory leak on Windows with MKL, when there are less chunks than available threads. You can avoid it by setting the environment variable OMP_NUM_THREADS=1.\n",
      "  warnings.warn(\n"
     ]
    },
    {
     "name": "stdout",
     "output_type": "stream",
     "text": [
      "Processed: china_pivoted_values\n"
     ]
    },
    {
     "name": "stderr",
     "output_type": "stream",
     "text": [
      "D:\\downloads\\anaconda\\Lib\\site-packages\\sklearn\\cluster\\_kmeans.py:1429: UserWarning: KMeans is known to have a memory leak on Windows with MKL, when there are less chunks than available threads. You can avoid it by setting the environment variable OMP_NUM_THREADS=1.\n",
      "  warnings.warn(\n"
     ]
    },
    {
     "name": "stdout",
     "output_type": "stream",
     "text": [
      "Processed: CHIRA_pivoted_values\n",
      "Error processing sheet CHONGQING(CUNTAN JIANG)_pivoted: Expected n_neighbors <= n_samples_fit, but n_neighbors = 5, n_samples_fit = 4, n_samples = 2\n"
     ]
    },
    {
     "name": "stderr",
     "output_type": "stream",
     "text": [
      "D:\\downloads\\anaconda\\Lib\\site-packages\\sklearn\\cluster\\_kmeans.py:1429: UserWarning: KMeans is known to have a memory leak on Windows with MKL, when there are less chunks than available threads. You can avoid it by setting the environment variable OMP_NUM_THREADS=1.\n",
      "  warnings.warn(\n"
     ]
    },
    {
     "name": "stdout",
     "output_type": "stream",
     "text": [
      "Processed: DONG-HOI_pivoted_values\n"
     ]
    },
    {
     "name": "stderr",
     "output_type": "stream",
     "text": [
      "D:\\downloads\\anaconda\\Lib\\site-packages\\sklearn\\cluster\\_kmeans.py:1429: UserWarning: KMeans is known to have a memory leak on Windows with MKL, when there are less chunks than available threads. You can avoid it by setting the environment variable OMP_NUM_THREADS=1.\n",
      "  warnings.warn(\n"
     ]
    },
    {
     "name": "stdout",
     "output_type": "stream",
     "text": [
      "Processed: FUZHOU_pivoted_values\n"
     ]
    },
    {
     "name": "stderr",
     "output_type": "stream",
     "text": [
      "D:\\downloads\\anaconda\\Lib\\site-packages\\sklearn\\cluster\\_kmeans.py:1429: UserWarning: KMeans is known to have a memory leak on Windows with MKL, when there are less chunks than available threads. You can avoid it by setting the environment variable OMP_NUM_THREADS=1.\n",
      "  warnings.warn(\n"
     ]
    },
    {
     "name": "stdout",
     "output_type": "stream",
     "text": [
      "Processed: GUANGZHOU_pivoted_values\n"
     ]
    },
    {
     "name": "stderr",
     "output_type": "stream",
     "text": [
      "D:\\downloads\\anaconda\\Lib\\site-packages\\sklearn\\cluster\\_kmeans.py:1429: UserWarning: KMeans is known to have a memory leak on Windows with MKL, when there are less chunks than available threads. You can avoid it by setting the environment variable OMP_NUM_THREADS=1.\n",
      "  warnings.warn(\n"
     ]
    },
    {
     "name": "stdout",
     "output_type": "stream",
     "text": [
      "Processed: GUILIN_pivoted_values\n"
     ]
    },
    {
     "name": "stderr",
     "output_type": "stream",
     "text": [
      "D:\\downloads\\anaconda\\Lib\\site-packages\\sklearn\\cluster\\_kmeans.py:1429: UserWarning: KMeans is known to have a memory leak on Windows with MKL, when there are less chunks than available threads. You can avoid it by setting the environment variable OMP_NUM_THREADS=1.\n",
      "  warnings.warn(\n"
     ]
    },
    {
     "name": "stdout",
     "output_type": "stream",
     "text": [
      "Processed: GUIYANG_pivoted_values\n"
     ]
    },
    {
     "name": "stderr",
     "output_type": "stream",
     "text": [
      "D:\\downloads\\anaconda\\Lib\\site-packages\\sklearn\\cluster\\_kmeans.py:1429: UserWarning: KMeans is known to have a memory leak on Windows with MKL, when there are less chunks than available threads. You can avoid it by setting the environment variable OMP_NUM_THREADS=1.\n",
      "  warnings.warn(\n"
     ]
    },
    {
     "name": "stdout",
     "output_type": "stream",
     "text": [
      "Processed: HAERBIN_pivoted_values\n"
     ]
    },
    {
     "name": "stderr",
     "output_type": "stream",
     "text": [
      "D:\\downloads\\anaconda\\Lib\\site-packages\\sklearn\\cluster\\_kmeans.py:1429: UserWarning: KMeans is known to have a memory leak on Windows with MKL, when there are less chunks than available threads. You can avoid it by setting the environment variable OMP_NUM_THREADS=1.\n",
      "  warnings.warn(\n"
     ]
    },
    {
     "name": "stdout",
     "output_type": "stream",
     "text": [
      "Processed: HAIKOU_pivoted_values\n"
     ]
    },
    {
     "name": "stderr",
     "output_type": "stream",
     "text": [
      "D:\\downloads\\anaconda\\Lib\\site-packages\\sklearn\\cluster\\_kmeans.py:1429: UserWarning: KMeans is known to have a memory leak on Windows with MKL, when there are less chunks than available threads. You can avoid it by setting the environment variable OMP_NUM_THREADS=1.\n",
      "  warnings.warn(\n"
     ]
    },
    {
     "name": "stdout",
     "output_type": "stream",
     "text": [
      "Processed: HANOI_pivoted_values\n"
     ]
    },
    {
     "name": "stderr",
     "output_type": "stream",
     "text": [
      "D:\\downloads\\anaconda\\Lib\\site-packages\\sklearn\\cluster\\_kmeans.py:1429: UserWarning: KMeans is known to have a memory leak on Windows with MKL, when there are less chunks than available threads. You can avoid it by setting the environment variable OMP_NUM_THREADS=1.\n",
      "  warnings.warn(\n"
     ]
    },
    {
     "name": "stdout",
     "output_type": "stream",
     "text": [
      "Processed: HETIAN_pivoted_values\n",
      "Skipping sheet HONG-KONG_pivoted_values: Missing required columns.\n",
      "Skipping sheet JINGBIAN_pivoted_values: Missing required columns.\n"
     ]
    },
    {
     "name": "stderr",
     "output_type": "stream",
     "text": [
      "D:\\downloads\\anaconda\\Lib\\site-packages\\sklearn\\cluster\\_kmeans.py:1429: UserWarning: KMeans is known to have a memory leak on Windows with MKL, when there are less chunks than available threads. You can avoid it by setting the environment variable OMP_NUM_THREADS=1.\n",
      "  warnings.warn(\n"
     ]
    },
    {
     "name": "stdout",
     "output_type": "stream",
     "text": [
      "Processed: JINZHOU_pivoted_values\n"
     ]
    },
    {
     "name": "stderr",
     "output_type": "stream",
     "text": [
      "D:\\downloads\\anaconda\\Lib\\site-packages\\sklearn\\cluster\\_kmeans.py:1429: UserWarning: KMeans is known to have a memory leak on Windows with MKL, when there are less chunks than available threads. You can avoid it by setting the environment variable OMP_NUM_THREADS=1.\n",
      "  warnings.warn(\n"
     ]
    },
    {
     "name": "stdout",
     "output_type": "stream",
     "text": [
      "Processed: KUNMING_pivoted_values\n"
     ]
    },
    {
     "name": "stderr",
     "output_type": "stream",
     "text": [
      "D:\\downloads\\anaconda\\Lib\\site-packages\\sklearn\\cluster\\_kmeans.py:1429: UserWarning: KMeans is known to have a memory leak on Windows with MKL, when there are less chunks than available threads. You can avoid it by setting the environment variable OMP_NUM_THREADS=1.\n",
      "  warnings.warn(\n"
     ]
    },
    {
     "name": "stdout",
     "output_type": "stream",
     "text": [
      "Processed: LANZHOU_pivoted_values\n"
     ]
    },
    {
     "name": "stderr",
     "output_type": "stream",
     "text": [
      "D:\\downloads\\anaconda\\Lib\\site-packages\\sklearn\\cluster\\_kmeans.py:1429: UserWarning: KMeans is known to have a memory leak on Windows with MKL, when there are less chunks than available threads. You can avoid it by setting the environment variable OMP_NUM_THREADS=1.\n",
      "  warnings.warn(\n"
     ]
    },
    {
     "name": "stdout",
     "output_type": "stream",
     "text": [
      "Processed: LHASA_pivoted_values\n"
     ]
    },
    {
     "name": "stderr",
     "output_type": "stream",
     "text": [
      "D:\\downloads\\anaconda\\Lib\\site-packages\\sklearn\\cluster\\_kmeans.py:1429: UserWarning: KMeans is known to have a memory leak on Windows with MKL, when there are less chunks than available threads. You can avoid it by setting the environment variable OMP_NUM_THREADS=1.\n",
      "  warnings.warn(\n"
     ]
    },
    {
     "name": "stdout",
     "output_type": "stream",
     "text": [
      "Processed: LIUZHOU_pivoted_values\n"
     ]
    },
    {
     "name": "stderr",
     "output_type": "stream",
     "text": [
      "D:\\downloads\\anaconda\\Lib\\site-packages\\sklearn\\cluster\\_kmeans.py:1429: UserWarning: KMeans is known to have a memory leak on Windows with MKL, when there are less chunks than available threads. You can avoid it by setting the environment variable OMP_NUM_THREADS=1.\n",
      "  warnings.warn(\n"
     ]
    },
    {
     "name": "stdout",
     "output_type": "stream",
     "text": [
      "Processed: NANJING_pivoted_values\n"
     ]
    },
    {
     "name": "stderr",
     "output_type": "stream",
     "text": [
      "D:\\downloads\\anaconda\\Lib\\site-packages\\sklearn\\cluster\\_kmeans.py:1429: UserWarning: KMeans is known to have a memory leak on Windows with MKL, when there are less chunks than available threads. You can avoid it by setting the environment variable OMP_NUM_THREADS=1.\n",
      "  warnings.warn(\n"
     ]
    },
    {
     "name": "stdout",
     "output_type": "stream",
     "text": [
      "Processed: NUR_pivoted_values\n"
     ]
    },
    {
     "name": "stderr",
     "output_type": "stream",
     "text": [
      "D:\\downloads\\anaconda\\Lib\\site-packages\\sklearn\\cluster\\_kmeans.py:1429: UserWarning: KMeans is known to have a memory leak on Windows with MKL, when there are less chunks than available threads. You can avoid it by setting the environment variable OMP_NUM_THREADS=1.\n",
      "  warnings.warn(\n"
     ]
    },
    {
     "name": "stdout",
     "output_type": "stream",
     "text": [
      "Processed: PINGLIANG_pivoted_values\n"
     ]
    },
    {
     "name": "stderr",
     "output_type": "stream",
     "text": [
      "D:\\downloads\\anaconda\\Lib\\site-packages\\sklearn\\cluster\\_kmeans.py:1429: UserWarning: KMeans is known to have a memory leak on Windows with MKL, when there are less chunks than available threads. You can avoid it by setting the environment variable OMP_NUM_THREADS=1.\n",
      "  warnings.warn(\n"
     ]
    },
    {
     "name": "stdout",
     "output_type": "stream",
     "text": [
      "Processed: QIQIHAR_pivoted_values\n"
     ]
    },
    {
     "name": "stderr",
     "output_type": "stream",
     "text": [
      "D:\\downloads\\anaconda\\Lib\\site-packages\\sklearn\\cluster\\_kmeans.py:1429: UserWarning: KMeans is known to have a memory leak on Windows with MKL, when there are less chunks than available threads. You can avoid it by setting the environment variable OMP_NUM_THREADS=1.\n",
      "  warnings.warn(\n"
     ]
    },
    {
     "name": "stdout",
     "output_type": "stream",
     "text": [
      "Processed: SHIJIAZHUANG_pivoted_values\n"
     ]
    },
    {
     "name": "stderr",
     "output_type": "stream",
     "text": [
      "D:\\downloads\\anaconda\\Lib\\site-packages\\sklearn\\cluster\\_kmeans.py:1429: UserWarning: KMeans is known to have a memory leak on Windows with MKL, when there are less chunks than available threads. You can avoid it by setting the environment variable OMP_NUM_THREADS=1.\n",
      "  warnings.warn(\n"
     ]
    },
    {
     "name": "stdout",
     "output_type": "stream",
     "text": [
      "Processed: SON-LA_pivoted_values\n"
     ]
    },
    {
     "name": "stderr",
     "output_type": "stream",
     "text": [
      "D:\\downloads\\anaconda\\Lib\\site-packages\\sklearn\\cluster\\_kmeans.py:1429: UserWarning: KMeans is known to have a memory leak on Windows with MKL, when there are less chunks than available threads. You can avoid it by setting the environment variable OMP_NUM_THREADS=1.\n",
      "  warnings.warn(\n"
     ]
    },
    {
     "name": "stdout",
     "output_type": "stream",
     "text": [
      "Processed: TAIYUAN_pivoted_values\n"
     ]
    },
    {
     "name": "stderr",
     "output_type": "stream",
     "text": [
      "D:\\downloads\\anaconda\\Lib\\site-packages\\sklearn\\cluster\\_kmeans.py:1429: UserWarning: KMeans is known to have a memory leak on Windows with MKL, when there are less chunks than available threads. You can avoid it by setting the environment variable OMP_NUM_THREADS=1.\n",
      "  warnings.warn(\n"
     ]
    },
    {
     "name": "stdout",
     "output_type": "stream",
     "text": [
      "Processed: TIANJIN_pivoted_values\n"
     ]
    },
    {
     "name": "stderr",
     "output_type": "stream",
     "text": [
      "D:\\downloads\\anaconda\\Lib\\site-packages\\sklearn\\cluster\\_kmeans.py:1429: UserWarning: KMeans is known to have a memory leak on Windows with MKL, when there are less chunks than available threads. You can avoid it by setting the environment variable OMP_NUM_THREADS=1.\n",
      "  warnings.warn(\n"
     ]
    },
    {
     "name": "stdout",
     "output_type": "stream",
     "text": [
      "Processed: WUHAN_pivoted_values\n"
     ]
    },
    {
     "name": "stderr",
     "output_type": "stream",
     "text": [
      "D:\\downloads\\anaconda\\Lib\\site-packages\\sklearn\\cluster\\_kmeans.py:1429: UserWarning: KMeans is known to have a memory leak on Windows with MKL, when there are less chunks than available threads. You can avoid it by setting the environment variable OMP_NUM_THREADS=1.\n",
      "  warnings.warn(\n"
     ]
    },
    {
     "name": "stdout",
     "output_type": "stream",
     "text": [
      "Processed: WULUMUQI_pivoted_values\n"
     ]
    },
    {
     "name": "stderr",
     "output_type": "stream",
     "text": [
      "D:\\downloads\\anaconda\\Lib\\site-packages\\sklearn\\cluster\\_kmeans.py:1429: UserWarning: KMeans is known to have a memory leak on Windows with MKL, when there are less chunks than available threads. You can avoid it by setting the environment variable OMP_NUM_THREADS=1.\n",
      "  warnings.warn(\n"
     ]
    },
    {
     "name": "stdout",
     "output_type": "stream",
     "text": [
      "Processed: XIAN_pivoted_values\n"
     ]
    },
    {
     "name": "stderr",
     "output_type": "stream",
     "text": [
      "D:\\downloads\\anaconda\\Lib\\site-packages\\sklearn\\cluster\\_kmeans.py:1429: UserWarning: KMeans is known to have a memory leak on Windows with MKL, when there are less chunks than available threads. You can avoid it by setting the environment variable OMP_NUM_THREADS=1.\n",
      "  warnings.warn(\n"
     ]
    },
    {
     "name": "stdout",
     "output_type": "stream",
     "text": [
      "Processed: YANTAI_pivoted_values\n"
     ]
    },
    {
     "name": "stderr",
     "output_type": "stream",
     "text": [
      "D:\\downloads\\anaconda\\Lib\\site-packages\\sklearn\\cluster\\_kmeans.py:1429: UserWarning: KMeans is known to have a memory leak on Windows with MKL, when there are less chunks than available threads. You can avoid it by setting the environment variable OMP_NUM_THREADS=1.\n",
      "  warnings.warn(\n"
     ]
    },
    {
     "name": "stdout",
     "output_type": "stream",
     "text": [
      "Processed: YINCHUAN_pivoted_values\n",
      "Processed: ZHANGYE_pivoted_values\n"
     ]
    },
    {
     "name": "stderr",
     "output_type": "stream",
     "text": [
      "D:\\downloads\\anaconda\\Lib\\site-packages\\sklearn\\cluster\\_kmeans.py:1429: UserWarning: KMeans is known to have a memory leak on Windows with MKL, when there are less chunks than available threads. You can avoid it by setting the environment variable OMP_NUM_THREADS=1.\n",
      "  warnings.warn(\n"
     ]
    }
   ],
   "source": [
    "import pandas as pd\n",
    "import numpy as np\n",
    "from sklearn.model_selection import train_test_split\n",
    "from sklearn.preprocessing import StandardScaler\n",
    "from sklearn.linear_model import Ridge, Lasso, BayesianRidge, LinearRegression\n",
    "from sklearn.neighbors import KNeighborsRegressor\n",
    "from sklearn.ensemble import RandomForestRegressor, BaggingRegressor, StackingRegressor\n",
    "from sklearn.tree import DecisionTreeRegressor\n",
    "from sklearn.mixture import GaussianMixture\n",
    "from sklearn.metrics import mean_squared_error, r2_score\n",
    "from openpyxl import load_workbook\n",
    "\n",
    "excel_path = \"China_pivoted_values.xlsx\"\n",
    "header = [\"Sample Site Name\", \"OLS\", \"Ridge\", \"Lasso\", \"BayesianRidge\", \"KNN\", \"RandomForest\", \"Bagging\", \"Stacking\", \"GMM\"]\n",
    "output_path = \"China_results_by_station.xlsx\"\n",
    "\n",
    "# Load all sheet names\n",
    "sheet_names = pd.ExcelFile(excel_path).sheet_names\n",
    "if not os.path.exists(output_path):\n",
    "    with pd.ExcelWriter(output_path, engine='openpyxl') as writer:\n",
    "        pd.DataFrame(columns=header).to_excel(writer, sheet_name=\"MSE\", index=False)\n",
    "        pd.DataFrame(columns=header).to_excel(writer, sheet_name=\"R2\", index=False)\n",
    "\n",
    "models = {\n",
    "    \"OLS\": LinearRegression(),\n",
    "    \"Ridge\": Ridge(alpha=1.0),\n",
    "    \"Lasso\": Lasso(alpha=0.1),\n",
    "    \"BayesianRidge\": BayesianRidge(),\n",
    "    \"KNN\": KNeighborsRegressor(n_neighbors=5),\n",
    "    \"RandomForest\": RandomForestRegressor(n_estimators=100, random_state=42),\n",
    "    \"Bagging\": BaggingRegressor(DecisionTreeRegressor(), n_estimators=100, random_state=42),\n",
    "    \"Stacking\": StackingRegressor(\n",
    "        estimators=[('dt', DecisionTreeRegressor()), ('knn', KNeighborsRegressor())],\n",
    "        final_estimator=Ridge(), passthrough=True, n_jobs=-1\n",
    "    )\n",
    "}\n",
    "\n",
    "# Function for GMM regression prediction\n",
    "def gmr_predict(gmm, X_input):\n",
    "    means = gmm.means_\n",
    "    covariances = gmm.covariances_\n",
    "    weights = gmm.weights_\n",
    "\n",
    "    n_features = X_input.shape[1]\n",
    "    y_preds = []\n",
    "\n",
    "    for x in X_input:\n",
    "        conditional_means = []\n",
    "        conditional_weights = []\n",
    "\n",
    "        for k in range(gmm.n_components):\n",
    "            mu = means[k]\n",
    "            cov = covariances[k]\n",
    "\n",
    "            mu_x = mu[:n_features]\n",
    "            mu_y = mu[n_features:]\n",
    "            sigma_xx = cov[:n_features, :n_features]\n",
    "            sigma_yx = cov[n_features:, :n_features]\n",
    "            sigma_yy = cov[n_features:, n_features:]\n",
    "\n",
    "            try:\n",
    "                inv_sigma_xx = np.linalg.inv(sigma_xx)\n",
    "            except np.linalg.LinAlgError:\n",
    "                inv_sigma_xx = np.linalg.pinv(sigma_xx)\n",
    "\n",
    "            mu_cond = mu_y + sigma_yx @ inv_sigma_xx @ (x - mu_x)\n",
    "            conditional_means.append(mu_cond[0])\n",
    "            joint = np.concatenate([x, [0]])\n",
    "            prob = gmm.predict_proba([joint])[0][k]\n",
    "            conditional_weights.append(prob * weights[k])\n",
    "\n",
    "        conditional_weights = np.array(conditional_weights)\n",
    "        conditional_means = np.array(conditional_means)\n",
    "        if np.sum(conditional_weights) > 0:\n",
    "            y_pred = np.sum(conditional_weights * conditional_means) / np.sum(conditional_weights)\n",
    "        else:\n",
    "            y_pred = np.mean(conditional_means)\n",
    "\n",
    "        y_preds.append(y_pred)\n",
    "\n",
    "    return np.array(y_preds)\n",
    "\n",
    "# Loop over all sheets\n",
    "for sheet_name in sheet_names:\n",
    "    try:\n",
    "        precipitation = pd.read_excel(excel_path, sheet_name=sheet_name, index_col=\"Sample Date\")\n",
    "        \n",
    "        if not all(col in precipitation.columns for col in [\"H2\", \"O18\", \"Precipitation\"]):\n",
    "            print(f\"Skipping sheet {sheet_name}: Missing required columns.\")\n",
    "            continue\n",
    "\n",
    "        df = precipitation[[\"H2\", \"O18\", \"Precipitation\"]].copy()\n",
    "        df.index = pd.to_datetime(df.index, utc=True)\n",
    "        df = df.dropna(subset=[\"H2\", \"O18\", \"Precipitation\"])  # Drop only rows with missing values\n",
    "\n",
    "        if df.empty:\n",
    "            print(f\"Skipping sheet {sheet_name}: No valid rows after dropping NaNs.\")\n",
    "            continue\n",
    "\n",
    "        X = df[[\"H2\", \"O18\"]]\n",
    "        y = df[\"Precipitation\"]\n",
    "\n",
    "        scaler = StandardScaler()\n",
    "        X_scaled = scaler.fit_transform(X)\n",
    "\n",
    "        X_train, X_test, y_train, y_test = train_test_split(X_scaled, y, test_size=0.2, random_state=42)\n",
    "\n",
    "        mse_results = {}\n",
    "        r2_results = {}\n",
    "\n",
    "        # Train and evaluate all models\n",
    "        for name, model in models.items():\n",
    "            model.fit(X_train, y_train)\n",
    "            y_pred = model.predict(X_test)\n",
    "            mse_results[name] = mean_squared_error(y_test, y_pred)\n",
    "            r2_results[name] = r2_score(y_test, y_pred)\n",
    "\n",
    "        # GMM\n",
    "        XY_train = np.hstack([X_train, y_train.values.reshape(-1, 1)])\n",
    "        gmm = GaussianMixture(n_components=1, covariance_type='full', random_state=42)\n",
    "        gmm.fit(XY_train)\n",
    "        y_pred_gmm = gmr_predict(gmm, X_test)\n",
    "        mse_results[\"GMM\"] = mean_squared_error(y_test, y_pred_gmm)\n",
    "        r2_results[\"GMM\"] = r2_score(y_test, y_pred_gmm)\n",
    "\n",
    "        location_name = precipitation[\"Sample Site Name\"].iloc[0] if \"Sample Site Name\" in precipitation.columns else sheet_name\n",
    "        mse_df = pd.DataFrame({ \"Sample Site Name\": [location_name], **{k: [v] for k, v in mse_results.items()} })\n",
    "        r2_df = pd.DataFrame({ \"Sample Site Name\": [location_name], **{k: [v] for k, v in r2_results.items()} })\n",
    "\n",
    "        try:\n",
    "            with pd.ExcelWriter(output_path, engine='openpyxl', mode='a', if_sheet_exists='overlay') as writer:\n",
    "                for sheet, df_result in [(\"MSE\", mse_df), (\"R2\", r2_df)]:\n",
    "                    if sheet in writer.book.sheetnames:\n",
    "                        start_row = writer.book[sheet].max_row\n",
    "                        df_result.to_excel(writer, sheet_name=sheet, index=False, header=False, startrow=start_row)\n",
    "                    else:\n",
    "                        df_result.to_excel(writer, sheet_name=sheet, index=False)\n",
    "        except FileNotFoundError:\n",
    "            with pd.ExcelWriter(output_path, engine='openpyxl') as writer:\n",
    "                mse_df.to_excel(writer, sheet_name=\"MSE\", index=False)\n",
    "                r2_df.to_excel(writer, sheet_name=\"R2\", index=False)\n",
    "\n",
    "        print(f\"Processed: {sheet_name}\")\n",
    "\n",
    "    except Exception as e:\n",
    "        print(f\"Error processing sheet {sheet_name}: {e}\")\n"
   ]
  },
  {
   "cell_type": "code",
   "execution_count": 52,
   "id": "eeaf3e5a-c446-41bb-a524-5bb766eb92c3",
   "metadata": {},
   "outputs": [
    {
     "name": "stdout",
     "output_type": "stream",
     "text": [
      "Summary saved to seasonal_summary.xlsx\n"
     ]
    }
   ],
   "source": [
    "# import pandas as pd\n",
    "\n",
    "# # Load the Excel file\n",
    "# excel_path = \"Phillipine_pivoted_values.xlsx\"\n",
    "# xls = pd.ExcelFile(excel_path)\n",
    "\n",
    "# # Prepare the result list\n",
    "# results = []\n",
    "\n",
    "# # Required columns\n",
    "# required_cols = [\"H2\", \"O18\", \"Precipitation\"]\n",
    "\n",
    "# # Loop through each sheet\n",
    "# for sheet in xls.sheet_names:\n",
    "#     try:\n",
    "#         precipitation = pd.read_excel(xls, sheet_name=sheet, index_col=\"Sample Date\")\n",
    "        \n",
    "#         # Check if required columns are present\n",
    "#         if not all(col in precipitation.columns for col in required_cols):\n",
    "#             print(f\"Skipping sheet '{sheet}' — missing required columns.\")\n",
    "#             continue\n",
    "        \n",
    "#         # Process data\n",
    "        \n",
    "#         df = precipitation[required_cols].copy()\n",
    "#         df.index = pd.to_datetime(df.index, utc=True)\n",
    "\n",
    "#         # Get location name or fallback to sheet name\n",
    "#         location = precipitation.get(\"Sample Site Name\", pd.Series([sheet])).iloc[0]\n",
    "\n",
    "#         # Seasonal filtering\n",
    "#         df_jjas = df[df.index.month.isin([6, 7, 8])]\n",
    "#         df_son  = df[df.index.month.isin([9, 10, 11])]\n",
    "#         df_djf  = df[df.index.month.isin([12, 1, 2])]\n",
    "#         df_mam  = df[df.index.month.isin([3, 4, 5])]\n",
    "\n",
    "#         # Collect counts\n",
    "#         results.append({\n",
    "#             \"Location\": location,\n",
    "#             \"JJAS_ALL\": len(df_jjas), \"JJAS_exist\": df_jjas.dropna().shape[0],\n",
    "#             \"SON_ALL\": len(df_son),   \"SON_exist\": df_son.dropna().shape[0],\n",
    "#             \"DJF_ALL\": len(df_djf),   \"DJF_exist\": df_djf.dropna().shape[0],\n",
    "#             \"MAM_ALL\": len(df_mam),   \"MAM_exist\": df_mam.dropna().shape[0],\n",
    "#         })\n",
    "    \n",
    "#     except Exception as e:\n",
    "#         print(f\"Error processing sheet '{sheet}': {e}\")\n",
    "\n",
    "# # Save the summary to Excel\n",
    "# summary_df = pd.DataFrame(results)\n",
    "# summary_df.to_excel(\"Phillipine_seasonal_summary.xlsx\", index=False)\n",
    "# print(\"Summary saved to seasonal_summary.xlsx\")\n"
   ]
  },
  {
   "cell_type": "code",
   "execution_count": 67,
   "id": "552bd0b1-ad7e-43ca-a6cf-2ed223933474",
   "metadata": {},
   "outputs": [
    {
     "data": {
      "image/png": "[encoded data removed]",
      "text/plain": [
       "<Figure size 1200x1000 with 4 Axes>"
      ]
     },
     "metadata": {},
     "output_type": "display_data"
    }
   ],
   "source": [
    "fig, axs = plt.subplots(2, 2, figsize=(12, 10))\n",
    "\n",
    "# Define seasons and titles\n",
    "seasonal_data = [\n",
    "    (df_jjas, \"JJAS (Jun–Sep)\", 'blue'),\n",
    "    (df_son,  \"SON (Sep–Nov)\", 'green'),\n",
    "    (df_djf,  \"DJF (Dec–Feb)\", 'orange'),\n",
    "    (df_mam,  \"MAM (Mar–May)\", 'purple')\n",
    "]\n",
    "\n",
    "# Plot each season in its subplot\n",
    "for ax, (df_season, title, color) in zip(axs.flat, seasonal_data):\n",
    "    ax.scatter(df_season['O18'], df_season['H2'], color=color, s=30)\n",
    "    ax.set_xlabel('δ¹⁸O (‰)')\n",
    "    ax.set_ylabel('δ²H (‰)')\n",
    "    ax.set_title(title)\n",
    "    ax.grid(True)\n",
    "\n",
    "plt.tight_layout()\n",
    "plt.show()"
   ]
  },
  {
   "cell_type": "code",
   "execution_count": 68,
   "id": "05da66db-2eb7-4083-b913-32ed71382ad5",
   "metadata": {},
   "outputs": [
    {
     "data": {
      "text/plain": [
       "<seaborn.axisgrid.PairGrid at 0x18d829b59a0>"
      ]
     },
     "execution_count": 68,
     "metadata": {},
     "output_type": "execute_result"
    },
    {
     "data": {
      "image/png": "[encoded data removed]",
      "text/plain": [
       "<Figure size 750x750 with 12 Axes>"
      ]
     },
     "metadata": {},
     "output_type": "display_data"
    }
   ],
   "source": [
    "sns.pairplot(df[[\"H2\", \"O18\", \"Precipitation\"]])"
   ]
  },
  {
   "cell_type": "code",
   "execution_count": 72,
   "id": "4c19f281-5f8c-4194-8f72-2d5eec169c75",
   "metadata": {},
   "outputs": [
    {
     "name": "stdout",
     "output_type": "stream",
     "text": [
      "Correlation between δ¹⁸O and δ²H: 0.997880025012332\n"
     ]
    }
   ],
   "source": [
    "correlation = df_jjas['O18'].corr(df_jjas['H2'])\n",
    "print(\"Correlation between δ¹⁸O and δ²H:\", correlation)"
   ]
  },
  {
   "cell_type": "code",
   "execution_count": 74,
   "id": "670e5bb6-d2c1-4256-92a5-fc237755d412",
   "metadata": {},
   "outputs": [
    {
     "name": "stdout",
     "output_type": "stream",
     "text": [
      "               Precipitation        H2       O18\n",
      "Precipitation       1.000000 -0.645566 -0.657247\n",
      "H2                 -0.645566  1.000000  0.998624\n",
      "O18                -0.657247  0.998624  1.000000\n"
     ]
    }
   ],
   "source": [
    "print(df[[\"Precipitation\", \"H2\", \"O18\"]].corr())\n"
   ]
  },
  {
   "cell_type": "code",
   "execution_count": 76,
   "id": "972b5516-e57d-4a9e-a1cb-e3ba1c56c622",
   "metadata": {},
   "outputs": [],
   "source": [
    "from sklearn.model_selection import train_test_split\n",
    "from sklearn.metrics import mean_squared_error, r2_score\n",
    "from sklearn.preprocessing import StandardScaler\n",
    "\n",
    "scaler = StandardScaler()\n",
    "X = df[[\"H2\", \"O18\"]]\n",
    "X_scaled = scaler.fit_transform(X)\n",
    "\n",
    "\n",
    "y = df[[\"Precipitation\"]]\n",
    "Y_scaled = scaler.fit_transform(y)\n",
    "\n",
    "X_train, X_test, y_train, y_test = train_test_split(X_scaled, y_scaled, test_size=0.2, random_state=42)\n",
    "\n"
   ]
  },
  {
   "cell_type": "code",
   "execution_count": 78,
   "id": "3b4cc6ca-b045-4d35-bf70-f931e25d6861",
   "metadata": {},
   "outputs": [
    {
     "name": "stdout",
     "output_type": "stream",
     "text": [
      "\n",
      "OLS:\n",
      "MSE: 2.5146\n",
      "R²: -1398.2430\n",
      "\n",
      "Ridge:\n",
      "MSE: 0.5132\n",
      "R²: -284.5578\n",
      "\n",
      "Lasso:\n",
      "MSE: 0.4925\n",
      "R²: -273.0416\n",
      "\n",
      "BayesianRidge:\n",
      "MSE: 0.4699\n",
      "R²: -260.4485\n",
      "\n",
      "KNN:\n",
      "MSE: 0.5944\n",
      "R²: -329.7577\n",
      "\n",
      "RandomForest:\n",
      "MSE: 0.2173\n",
      "R²: -119.9100\n",
      "\n",
      "Bagging:\n",
      "MSE: 0.2173\n",
      "R²: -119.9100\n",
      "\n",
      "Stacking:\n",
      "MSE: 1.1292\n",
      "R²: -627.3655\n"
     ]
    },
    {
     "ename": "AttributeError",
     "evalue": "'numpy.ndarray' object has no attribute 'values'",
     "output_type": "error",
     "traceback": [
      "\u001b[1;31m---------------------------------------------------------------------------\u001b[0m",
      "\u001b[1;31mAttributeError\u001b[0m                            Traceback (most recent call last)",
      "Cell \u001b[1;32mIn[78], line 80\u001b[0m\n\u001b[0;32m     77\u001b[0m     \u001b[38;5;28;01mreturn\u001b[39;00m np\u001b[38;5;241m.\u001b[39marray(y_preds)\n\u001b[0;32m     79\u001b[0m \u001b[38;5;66;03m# Train GMM\u001b[39;00m\n\u001b[1;32m---> 80\u001b[0m XY_train \u001b[38;5;241m=\u001b[39m np\u001b[38;5;241m.\u001b[39mhstack([X_train, y_train\u001b[38;5;241m.\u001b[39mvalues\u001b[38;5;241m.\u001b[39mreshape(\u001b[38;5;241m-\u001b[39m\u001b[38;5;241m1\u001b[39m, \u001b[38;5;241m1\u001b[39m)])\n\u001b[0;32m     81\u001b[0m gmm \u001b[38;5;241m=\u001b[39m GaussianMixture(n_components\u001b[38;5;241m=\u001b[39m\u001b[38;5;241m1\u001b[39m, covariance_type\u001b[38;5;241m=\u001b[39m\u001b[38;5;124m'\u001b[39m\u001b[38;5;124mfull\u001b[39m\u001b[38;5;124m'\u001b[39m, random_state\u001b[38;5;241m=\u001b[39m\u001b[38;5;241m42\u001b[39m)\n\u001b[0;32m     82\u001b[0m gmm\u001b[38;5;241m.\u001b[39mfit(XY_train)\n",
      "\u001b[1;31mAttributeError\u001b[0m: 'numpy.ndarray' object has no attribute 'values'"
     ]
    }
   ],
   "source": []
  },
  {
   "cell_type": "code",
   "execution_count": null,
   "id": "ba5404c4-7b36-4ff2-8b47-f9141f8ca5a9",
   "metadata": {},
   "outputs": [],
   "source": [
    "import pandas as pd\n",
    "import numpy as np\n",
    "from sklearn.metrics import mean_squared_error, r2_score\n",
    "from openpyxl import load_workbook\n",
    "\n",
    "# Store results\n",
    "mse_results = {}\n",
    "r2_results = {}\n",
    "\n",
    "# Evaluate all models (already trained)\n",
    "for name, model in models.items():\n",
    "    y_pred = model.predict(X_test)\n",
    "    mse_results[name] = mean_squared_error(y_test, y_pred)\n",
    "    r2_results[name] = r2_score(y_test, y_pred)\n",
    "\n",
    "# GMM\n",
    "mse_results[\"GMM\"] = mean_squared_error(y_test, y_pred_gmm)\n",
    "r2_results[\"GMM\"] = r2_score(y_test, y_pred_gmm)\n",
    "\n",
    "# Assume you are looping over multiple locations (like 'korea-busan', 'mongolia')\n",
    "location_name = precipitation[\"Sample Site Name\"].iloc[0]  # or \"korea-busan\", dynamically set in your loop\n",
    "\n",
    "# Create DataFrames\n",
    "mse_df = pd.DataFrame({ \"Sample Site Name\": [location_name], **{k: [v] for k, v in mse_results.items()} })\n",
    "r2_df = pd.DataFrame({ \"Sample Site Name\": [location_name], **{k: [v] for k, v in r2_results.items()} })\n",
    "\n",
    "# Load existing Excel file and write to it\n",
    "excel_path = \"regression_results_by_station.xlsx\"\n",
    "\n",
    "try:\n",
    "    with pd.ExcelWriter(excel_path, engine='openpyxl', mode='a', if_sheet_exists='overlay') as writer:\n",
    "        start_row_mse = writer.sheets[\"MSE\"].max_row\n",
    "        start_row_r2 = writer.sheets[\"R2\"].max_row\n",
    "\n",
    "        mse_df.to_excel(writer, sheet_name=\"MSE\", index=False, header=False, startrow=start_row_mse)\n",
    "        r2_df.to_excel(writer, sheet_name=\"R2\", index=False, header=False, startrow=start_row_r2)\n",
    "\n",
    "except FileNotFoundError:\n",
    "    # If file doesn't exist, create new one\n",
    "    with pd.ExcelWriter(excel_path, engine='openpyxl') as writer:\n",
    "        mse_df.to_excel(writer, sheet_name=\"MSE\", index=False)\n",
    "        r2_df.to_excel(writer, sheet_name=\"R2\", index=False)\n"
   ]
  },
  {
   "cell_type": "code",
   "execution_count": null,
   "id": "f169bcff-1c31-49cc-9f57-27fdf1c0f74a",
   "metadata": {},
   "outputs": [],
   "source": [
    "df = pd.read_excel(excel_path)\n",
    "print(df.head())"
   ]
  },
  {
   "cell_type": "code",
   "execution_count": null,
   "id": "616b9e2c-d820-4eba-a218-5425677ed55f",
   "metadata": {},
   "outputs": [],
   "source": [
    "# Ordinary Least Squares Regression\n",
    "# Precipitation=β0 + β1*H2 + β2*O18 + β3*TempAir+⋯+ε\n",
    "\n",
    "import statsmodels.api as sm\n",
    "\n",
    "X = sm.add_constant(X)\n",
    "\n",
    "model = sm.OLS(y, X).fit()\n",
    "print(model.summary())"
   ]
  },
  {
   "cell_type": "code",
   "execution_count": 3,
   "id": "74a08844-702c-4f81-83cc-2cd8b8a23fec",
   "metadata": {},
   "outputs": [],
   "source": [
    "precipitation = pd.read_excel(\"D:/downloads/Japan_pivoted_values.xlsx\", index_col=\"Sample Date\", sheet_name=\"TOKYO\")\n",
    "df2 = precipitation[[\"H2\",\"O18\", \"Precipitation\"]].copy()\n"
   ]
  },
  {
   "cell_type": "code",
   "execution_count": 227,
   "id": "d81d46f2-e6f9-4ff3-987a-e18ad984fbc4",
   "metadata": {
    "scrolled": true
   },
   "outputs": [
    {
     "name": "stdout",
     "output_type": "stream",
     "text": [
      "Ridge Regression Coefficients: [-4.74498158 13.5250804 ]\n",
      "Intercept: 36.40508163129044\n",
      "Mean Squared Error: 2153.86754346616\n",
      "R² Score: 0.13957562132161672\n"
     ]
    }
   ],
   "source": [
    "#Ridge Regression - prevent overfitting\n",
    "\n",
    "from sklearn.linear_model import Ridge\n",
    "\n",
    "ridge = Ridge(alpha=1.0)\n",
    "ridge.fit(X_train, y_train)\n",
    "\n",
    "y_pred = ridge.predict(X_test)\n",
    "\n",
    "print(\"Ridge Regression Coefficients:\", ridge.coef_)\n",
    "print(\"Intercept:\", ridge.intercept_)\n",
    "print(\"Mean Squared Error:\", mean_squared_error(y_test, y_pred))\n",
    "print(\"R² Score:\", r2_score(y_test, y_pred))"
   ]
  },
  {
   "cell_type": "code",
   "execution_count": 184,
   "id": "faf885b6-83f6-4840-ac02-c00035551a8e",
   "metadata": {},
   "outputs": [
    {
     "name": "stdout",
     "output_type": "stream",
     "text": [
      "Coefficients: [-5.26829685 13.73704175]\n",
      "Intercept: 36.44642857142857\n",
      "Mean Squared Error: 2153.177090945025\n",
      "R^2 Score: 0.13985144245245018\n"
     ]
    }
   ],
   "source": [
    "\n",
    "from sklearn.linear_model import Lasso\n",
    "\n",
    "X_train_scaled = scaler.fit_transform(X_train)\n",
    "X_test_scaled = scaler.transform(X_test)\n",
    "\n",
    "# Lasso regression model\n",
    "lasso = Lasso(alpha=0.1)  # You can tune alpha\n",
    "lasso.fit(X_train_scaled, y_train)\n",
    "\n",
    "# Predictions\n",
    "y_pred = lasso.predict(X_test_scaled)\n",
    "\n",
    "# Evaluation\n",
    "print(\"Coefficients:\", lasso.coef_)\n",
    "print(\"Intercept:\", lasso.intercept_)\n",
    "print(\"Mean Squared Error:\", mean_squared_error(y_test, y_pred))\n",
    "print(\"R^2 Score:\", r2_score(y_test, y_pred))\n"
   ]
  },
  {
   "cell_type": "code",
   "execution_count": 186,
   "id": "00b34d06-fb23-4276-ba24-6aec3602511f",
   "metadata": {},
   "outputs": [
    {
     "name": "stdout",
     "output_type": "stream",
     "text": [
      "Coefficients: [0.00529658 0.00926975]\n",
      "Intercept: 36.44642857142857\n",
      "Mean Squared Error: 2507.5352180257873\n",
      "R^2 Score: -0.0017071098587266853\n"
     ]
    }
   ],
   "source": [
    "\n",
    "from sklearn.linear_model import BayesianRidge\n",
    "\n",
    "bayesian_ridge = BayesianRidge()\n",
    "bayesian_ridge.fit(X_train_scaled, y_train)\n",
    "\n",
    "# Predict\n",
    "y_pred = bayesian_ridge.predict(X_test_scaled)\n",
    "\n",
    "# Evaluation\n",
    "print(\"Coefficients:\", bayesian_ridge.coef_)\n",
    "print(\"Intercept:\", bayesian_ridge.intercept_)\n",
    "print(\"Mean Squared Error:\", mean_squared_error(y_test, y_pred))\n",
    "print(\"R^2 Score:\", r2_score(y_test, y_pred))"
   ]
  },
  {
   "cell_type": "code",
   "execution_count": 188,
   "id": "d3e1b0dd-dea6-41a0-847d-3849311f87b2",
   "metadata": {},
   "outputs": [
    {
     "name": "stdout",
     "output_type": "stream",
     "text": [
      "Mean Squared Error: 2218.67925\n",
      "R^2 Score: 0.11368471986176032\n"
     ]
    }
   ],
   "source": [
    "\n",
    "from sklearn.neighbors import KNeighborsRegressor\n",
    "\n",
    "# Create and fit the KNN model\n",
    "knn = KNeighborsRegressor(n_neighbors=5)  # You can change k (e.g., 3, 7, etc.)\n",
    "knn.fit(X_train, y_train)\n",
    "\n",
    "# Predict\n",
    "y_pred = knn.predict(X_test)\n",
    "\n",
    "# Evaluate\n",
    "print(\"Mean Squared Error:\", mean_squared_error(y_test, y_pred))\n",
    "print(\"R^2 Score:\", r2_score(y_test, y_pred))"
   ]
  },
  {
   "cell_type": "code",
   "execution_count": 190,
   "id": "ff041331-8727-4dba-95b3-a1673ecfcd57",
   "metadata": {},
   "outputs": [
    {
     "name": "stdout",
     "output_type": "stream",
     "text": [
      "Mean Squared Error: 2554.8308084823443\n",
      "R^2 Score: -0.020600694636610628\n"
     ]
    }
   ],
   "source": [
    "\n",
    "from sklearn.ensemble import RandomForestRegressor\n",
    "\n",
    "# Create and train the model\n",
    "rf = RandomForestRegressor(n_estimators=100, random_state=42)\n",
    "rf.fit(X_train, y_train)\n",
    "\n",
    "# Predict\n",
    "y_pred = rf.predict(X_test)\n",
    "\n",
    "# Evaluate\n",
    "print(\"Mean Squared Error:\", mean_squared_error(y_test, y_pred))\n",
    "print(\"R^2 Score:\", r2_score(y_test, y_pred))"
   ]
  },
  {
   "cell_type": "code",
   "execution_count": 213,
   "id": "161df44f-bef9-4e10-add6-8b03ddb1a40c",
   "metadata": {},
   "outputs": [
    {
     "name": "stdout",
     "output_type": "stream",
     "text": [
      "Mean Squared Error: 2485.100047326854\n",
      "R^2 Score: 0.0072552647625594435\n"
     ]
    }
   ],
   "source": [
    "\n",
    "from xgboost import XGBRegressor\n",
    "\n",
    "# Create DMatrix (optional, but useful for XGBoost)\n",
    "model = XGBRegressor(\n",
    "    objective=\"reg:squarederror\",\n",
    "    n_estimators=100,\n",
    "    seed=42\n",
    ")\n",
    "model.fit(X_train, y_train)\n",
    "\n",
    "# Predict\n",
    "y_pred = model.predict(X_test)\n",
    "\n",
    "# Evaluate\n",
    "print(\"Mean Squared Error:\", mean_squared_error(y_test, y_pred))\n",
    "print(\"R^2 Score:\", r2_score(y_test, y_pred))"
   ]
  },
  {
   "cell_type": "code",
   "execution_count": 209,
   "id": "c639a676-8efd-4e22-a92a-97a5c1a5b3af",
   "metadata": {},
   "outputs": [
    {
     "name": "stdout",
     "output_type": "stream",
     "text": [
      "Mean Squared Error: 2564.4768169823456\n",
      "R^2 Score: -0.024454070344656076\n"
     ]
    }
   ],
   "source": [
    "\n",
    "from sklearn.ensemble import BaggingRegressor\n",
    "from sklearn.tree import DecisionTreeRegressor\n",
    "\n",
    "# Initialize Bagging Regressor with Decision Tree as the base estimator\n",
    "bagging_model = BaggingRegressor(\n",
    "    estimator=DecisionTreeRegressor(),  # You can change this to any other regressor\n",
    "    n_estimators=100,       # Number of base models\n",
    "    random_state=42,\n",
    "    n_jobs=-1               # Use all processors\n",
    ")\n",
    "\n",
    "# Fit the model\n",
    "bagging_model.fit(X_train, y_train)\n",
    "\n",
    "# Predict\n",
    "y_pred = bagging_model.predict(X_test)\n",
    "\n",
    "# Evaluate\n",
    "print(\"Mean Squared Error:\", mean_squared_error(y_test, y_pred))\n",
    "print(\"R^2 Score:\", r2_score(y_test, y_pred))"
   ]
  },
  {
   "cell_type": "code",
   "execution_count": 196,
   "id": "d767e318-f0aa-470b-9b3b-8ba31519f3c7",
   "metadata": {},
   "outputs": [
    {
     "name": "stdout",
     "output_type": "stream",
     "text": [
      "Mean Squared Error: 2420.944249931336\n",
      "R^2 Score: 0.032884144440007645\n"
     ]
    }
   ],
   "source": [
    "\n",
    "from sklearn.ensemble import StackingRegressor\n",
    "from sklearn.linear_model import RidgeCV\n",
    "from sklearn.tree import DecisionTreeRegressor\n",
    "from sklearn.neighbors import KNeighborsRegressor\n",
    "from sklearn.linear_model import LinearRegression\n",
    "\n",
    "# Define base regressors\n",
    "base_models = [\n",
    "    ('dt', DecisionTreeRegressor(random_state=42)),\n",
    "    ('knn', KNeighborsRegressor()),\n",
    "]\n",
    "\n",
    "# Final estimator\n",
    "final_model = RidgeCV()\n",
    "\n",
    "# Create stacking regressor\n",
    "stacking_reg = StackingRegressor(\n",
    "    estimators=base_models,\n",
    "    final_estimator=final_model,\n",
    "    passthrough=True,  # Optional: adds original features to the final regressor\n",
    "    n_jobs=-1\n",
    ")\n",
    "\n",
    "# Train the stacking model\n",
    "stacking_reg.fit(X_train, y_train)\n",
    "\n",
    "# Predict\n",
    "y_pred = stacking_reg.predict(X_test)\n",
    "\n",
    "# Evaluate\n",
    "print(\"Mean Squared Error:\", mean_squared_error(y_test, y_pred))\n",
    "print(\"R^2 Score:\", r2_score(y_test, y_pred))\n"
   ]
  },
  {
   "cell_type": "code",
   "execution_count": 198,
   "id": "8ae5ee2d-de32-4198-9dc9-229efeb639a0",
   "metadata": {},
   "outputs": [
    {
     "name": "stdout",
     "output_type": "stream",
     "text": [
      "Mean Squared Error: 2800.082735552315\n",
      "R^2 Score: -0.11857363527030707\n"
     ]
    },
    {
     "name": "stderr",
     "output_type": "stream",
     "text": [
      "C:\\Users\\Dell\\anaconda3\\Lib\\site-packages\\sklearn\\cluster\\_kmeans.py:1429: UserWarning: KMeans is known to have a memory leak on Windows with MKL, when there are less chunks than available threads. You can avoid it by setting the environment variable OMP_NUM_THREADS=1.\n",
      "  warnings.warn(\n"
     ]
    }
   ],
   "source": [
    "\n",
    "from sklearn.mixture import GaussianMixture\n",
    "import numpy as np\n",
    "\n",
    "# Stack X and y into one array for GMM (concatenate along features)\n",
    "XY = np.hstack([X_train, y_train.values.reshape(-1, 1)])\n",
    "\n",
    "# Fit Gaussian Mixture Model on joint distribution P(X, y)\n",
    "gmm = GaussianMixture(n_components=3, covariance_type='full', random_state=42)\n",
    "gmm.fit(XY)\n",
    "\n",
    "def gmr_predict(gmm, X_input):\n",
    "    means = gmm.means_\n",
    "    covariances = gmm.covariances_\n",
    "    weights = gmm.weights_\n",
    "\n",
    "    n_features = X_input.shape[1]\n",
    "    y_dim = 1  # only predicting precipitation\n",
    "\n",
    "    y_preds = []\n",
    "\n",
    "    for x in X_input:\n",
    "        conditional_means = []\n",
    "        conditional_weights = []\n",
    "\n",
    "        for k in range(gmm.n_components):\n",
    "            mean_k = means[k]\n",
    "            cov_k = covariances[k]\n",
    "\n",
    "            # Partition mean and covariance\n",
    "            mu_x = mean_k[:n_features]\n",
    "            mu_y = mean_k[n_features:]\n",
    "            sigma_xx = cov_k[:n_features, :n_features]\n",
    "            sigma_xy = cov_k[:n_features, n_features:]\n",
    "            sigma_yx = cov_k[n_features:, :n_features]\n",
    "            sigma_yy = cov_k[n_features:, n_features:]\n",
    "\n",
    "            # Conditional mean\n",
    "            try:\n",
    "                inv_sigma_xx = np.linalg.inv(sigma_xx)\n",
    "            except np.linalg.LinAlgError:\n",
    "                inv_sigma_xx = np.linalg.pinv(sigma_xx)\n",
    "\n",
    "            mu_y_given_x = mu_y + sigma_yx @ inv_sigma_xx @ (x - mu_x)\n",
    "            conditional_means.append(mu_y_given_x[0])\n",
    "\n",
    "            # Compute responsibility (posterior probability)\n",
    "            joint = np.concatenate([x, [0]])\n",
    "            prob = gmm.predict_proba([joint])[0][k]\n",
    "            conditional_weights.append(prob * weights[k])\n",
    "\n",
    "        # Weighted average of conditional means\n",
    "        conditional_weights = np.array(conditional_weights)\n",
    "        conditional_means = np.array(conditional_means)\n",
    "        if np.sum(conditional_weights) > 0:\n",
    "            y_pred = np.sum(conditional_weights * conditional_means) / np.sum(conditional_weights)\n",
    "        else:\n",
    "            y_pred = np.mean(conditional_means)\n",
    "\n",
    "        y_preds.append(y_pred)\n",
    "\n",
    "    return np.array(y_preds)\n",
    "\n",
    "y_pred = gmr_predict(gmm, X_test)\n",
    "\n",
    "# Evaluate\n",
    "print(\"Mean Squared Error:\", mean_squared_error(y_test, y_pred))\n",
    "print(\"R^2 Score:\", r2_score(y_test, y_pred), OMP_NUM_THREADS=1)    "
   ]
  },
  {
   "cell_type": "code",
   "execution_count": null,
   "id": "290dcd6b-76e4-412e-9bb9-692efc45b19a",
   "metadata": {},
   "outputs": [],
   "source": []
  }
 ],
 "metadata": {
  "kernelspec": {
   "display_name": "Python 3 (ipykernel)",
   "language": "python",
   "name": "python3"
  },
  "language_info": {
   "codemirror_mode": {
    "name": "ipython",
    "version": 3
   },
   "file_extension": ".py",
   "mimetype": "text/x-python",
   "name": "python",
   "nbconvert_exporter": "python",
   "pygments_lexer": "ipython3",
   "version": "3.12.7"
  }
 },
 "nbformat": 4,
 "nbformat_minor": 5
}
